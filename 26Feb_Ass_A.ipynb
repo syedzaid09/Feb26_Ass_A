{
 "cells": [
  {
   "cell_type": "code",
   "execution_count": 2,
   "id": "6b771370-39f3-4fda-aff2-78be4e0c926f",
   "metadata": {},
   "outputs": [],
   "source": [
    "import numpy as np\n",
    "list_ = [ \"1\" , \"2\" , \"3\" , \"4\" , \"5\" ]\n",
    "array_list = np.array(object = list_)"
   ]
  },
  {
   "cell_type": "code",
   "execution_count": 3,
   "id": "2e0d646c-835f-4471-b032-85d965d2b5e9",
   "metadata": {},
   "outputs": [
    {
     "data": {
      "text/plain": [
       "array(['1', '2', '3', '4', '5'], dtype='<U1')"
      ]
     },
     "execution_count": 3,
     "metadata": {},
     "output_type": "execute_result"
    }
   ],
   "source": [
    "array_list"
   ]
  },
  {
   "cell_type": "code",
   "execution_count": 5,
   "id": "6eae9fb4-01b4-4905-9595-83b35f4c4587",
   "metadata": {},
   "outputs": [
    {
     "data": {
      "text/plain": [
       "numpy.ndarray"
      ]
     },
     "execution_count": 5,
     "metadata": {},
     "output_type": "execute_result"
    }
   ],
   "source": [
    "type(array_list)"
   ]
  },
  {
   "cell_type": "code",
   "execution_count": 6,
   "id": "ba524972-9392-4a51-91c3-34d2f1428512",
   "metadata": {},
   "outputs": [
    {
     "data": {
      "text/plain": [
       "list"
      ]
     },
     "execution_count": 6,
     "metadata": {},
     "output_type": "execute_result"
    }
   ],
   "source": [
    "type(list_)"
   ]
  },
  {
   "cell_type": "raw",
   "id": "4cd96659-2143-4932-9a08-16e289fbf882",
   "metadata": {},
   "source": [
    "list_ is a python list containing string elements [\"1\",\"2\",\"3\",\"4\",\"5\"]\n",
    "array_list is a numpy array created from the python list \"list_\"."
   ]
  },
  {
   "cell_type": "code",
   "execution_count": 7,
   "id": "ae5b295e-80e2-4c0c-8a27-43006281f931",
   "metadata": {},
   "outputs": [],
   "source": [
    "# Ques=2"
   ]
  },
  {
   "cell_type": "code",
   "execution_count": 13,
   "id": "ae7d4c6f-336d-443f-b986-e8b7992cc793",
   "metadata": {},
   "outputs": [
    {
     "name": "stdout",
     "output_type": "stream",
     "text": [
      "Data type of element 1:<class 'str'>\n",
      "Data type of element 2:<class 'str'>\n",
      "Data type of element 3:<class 'str'>\n",
      "Data type of element 4:<class 'str'>\n",
      "Data type of element 5:<class 'str'>\n"
     ]
    }
   ],
   "source": [
    "for element in list_:\n",
    "    print(f\"Data type of element {element}:{type(element)}\")"
   ]
  },
  {
   "cell_type": "code",
   "execution_count": 14,
   "id": "e577a008-129d-4dd3-a978-f7b727acaec7",
   "metadata": {},
   "outputs": [
    {
     "name": "stdout",
     "output_type": "stream",
     "text": [
      "Data type of element 1:<class 'numpy.str_'>\n",
      "Data type of element 2:<class 'numpy.str_'>\n",
      "Data type of element 3:<class 'numpy.str_'>\n",
      "Data type of element 4:<class 'numpy.str_'>\n",
      "Data type of element 5:<class 'numpy.str_'>\n"
     ]
    }
   ],
   "source": [
    "for element in array_list:\n",
    "    print(f\"Data type of element {element}:{type(element)}\")"
   ]
  },
  {
   "cell_type": "code",
   "execution_count": 15,
   "id": "a156fce6-4cb0-4864-b011-093283c71f3f",
   "metadata": {},
   "outputs": [],
   "source": [
    "# Qus=3"
   ]
  },
  {
   "cell_type": "code",
   "execution_count": 16,
   "id": "8c35a030-1c6c-4a2f-9d53-92387ab5c30b",
   "metadata": {},
   "outputs": [],
   "source": [
    "array_list=np.array(list_,dtype=int)"
   ]
  },
  {
   "cell_type": "code",
   "execution_count": 17,
   "id": "aaf3a225-1eb2-430a-8e65-3c21141fb289",
   "metadata": {},
   "outputs": [
    {
     "name": "stdout",
     "output_type": "stream",
     "text": [
      "Data type of element 1:<class 'str'>\n",
      "Data type of element 2:<class 'str'>\n",
      "Data type of element 3:<class 'str'>\n",
      "Data type of element 4:<class 'str'>\n",
      "Data type of element 5:<class 'str'>\n"
     ]
    }
   ],
   "source": [
    "for element in list_:\n",
    "    print(f\"Data type of element {element}:{type(element)}\")"
   ]
  },
  {
   "cell_type": "code",
   "execution_count": 18,
   "id": "c5bd89d2-abf1-4a5b-91c4-3f8717ada0bd",
   "metadata": {},
   "outputs": [
    {
     "name": "stdout",
     "output_type": "stream",
     "text": [
      "Data type of element 1:<class 'numpy.int64'>\n",
      "Data type of element 2:<class 'numpy.int64'>\n",
      "Data type of element 3:<class 'numpy.int64'>\n",
      "Data type of element 4:<class 'numpy.int64'>\n",
      "Data type of element 5:<class 'numpy.int64'>\n"
     ]
    }
   ],
   "source": [
    "for element in array_list:\n",
    "    print(f\"Data type of element {element}:{type(element)}\")"
   ]
  },
  {
   "cell_type": "markdown",
   "id": "bcacc770-1d25-4f83-a4f3-566a6b8be164",
   "metadata": {},
   "source": [
    "array_list after creating it with \"dtype=int\", the element are converted to \"numpy.int64\" within the numpy array."
   ]
  },
  {
   "cell_type": "code",
   "execution_count": 19,
   "id": "e29e99c6-3c7c-4c0a-95b8-8ec0c5575764",
   "metadata": {},
   "outputs": [],
   "source": [
    "# Qus 4"
   ]
  },
  {
   "cell_type": "code",
   "execution_count": 20,
   "id": "8d2cde70-a044-476a-b7e3-4a2d97200feb",
   "metadata": {},
   "outputs": [],
   "source": [
    "import numpy as np\n",
    "num_list = [ [ 1 , 2 , 3 ] , [ 4 , 5 , 6 ] ]\n",
    "num_array = np.array(object = num_list)"
   ]
  },
  {
   "cell_type": "code",
   "execution_count": 21,
   "id": "88157dd2-5c8b-49cc-bfff-89bfcf2a1666",
   "metadata": {},
   "outputs": [
    {
     "data": {
      "text/plain": [
       "[[1, 2, 3], [4, 5, 6]]"
      ]
     },
     "execution_count": 21,
     "metadata": {},
     "output_type": "execute_result"
    }
   ],
   "source": [
    "num_list"
   ]
  },
  {
   "cell_type": "code",
   "execution_count": 24,
   "id": "548960e8-2560-4a01-83cc-ddac0e04d094",
   "metadata": {},
   "outputs": [
    {
     "data": {
      "text/plain": [
       "(2, 3)"
      ]
     },
     "execution_count": 24,
     "metadata": {},
     "output_type": "execute_result"
    }
   ],
   "source": [
    "num_array.shape"
   ]
  },
  {
   "cell_type": "code",
   "execution_count": 26,
   "id": "7425def8-5ed0-4db7-a7e6-8e8e2d4769dd",
   "metadata": {},
   "outputs": [
    {
     "data": {
      "text/plain": [
       "6"
      ]
     },
     "execution_count": 26,
     "metadata": {},
     "output_type": "execute_result"
    }
   ],
   "source": [
    "num_array.size"
   ]
  },
  {
   "cell_type": "code",
   "execution_count": 27,
   "id": "de64db88-cd2a-430b-aedd-9e29e5c618df",
   "metadata": {},
   "outputs": [],
   "source": [
    "# Ques=5"
   ]
  },
  {
   "cell_type": "code",
   "execution_count": null,
   "id": "51fc6210-4830-42f8-a87b-19c22be82f10",
   "metadata": {},
   "outputs": [],
   "source": []
  }
 ],
 "metadata": {
  "kernelspec": {
   "display_name": "Python 3 (ipykernel)",
   "language": "python",
   "name": "python3"
  },
  "language_info": {
   "codemirror_mode": {
    "name": "ipython",
    "version": 3
   },
   "file_extension": ".py",
   "mimetype": "text/x-python",
   "name": "python",
   "nbconvert_exporter": "python",
   "pygments_lexer": "ipython3",
   "version": "3.10.8"
  }
 },
 "nbformat": 4,
 "nbformat_minor": 5
}
